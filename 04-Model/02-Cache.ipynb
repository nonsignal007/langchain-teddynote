{
 "cells": [
  {
   "cell_type": "markdown",
   "metadata": {},
   "source": [
    "## 캐싱(Caching)\n",
    "\n",
    "LangChain은 LLM을 위한 선택적 캐싱 레이어를 제공합니다.\n",
    "\n",
    "이는 두 가지 이유로 유용합니다.\n",
    "\n",
    "- 동일한 완료를 여러 번 요청하는 경우 LLM 공급자에 대한 **API 호출 횟수를 줄여 비용을 절감**할 수 있습니다.\n",
    "- LLM 제공업체에 대한 **API 호출 횟수를 줄여 애플리케이션의 속도를 높일 수** 있습니다."
   ]
  },
  {
   "cell_type": "code",
   "execution_count": 2,
   "metadata": {},
   "outputs": [
    {
     "data": {
      "text/plain": [
       "True"
      ]
     },
     "execution_count": 2,
     "metadata": {},
     "output_type": "execute_result"
    }
   ],
   "source": [
    "# API KEY를 환경변수로 관리하기 위한 설정 파일\n",
    "from dotenv import load_dotenv\n",
    "\n",
    "# API KEY 정보로드\n",
    "load_dotenv()"
   ]
  },
  {
   "cell_type": "markdown",
   "metadata": {},
   "source": [
    "모델과 프롬프트를 생성합니다\n"
   ]
  },
  {
   "cell_type": "code",
   "execution_count": 3,
   "metadata": {},
   "outputs": [],
   "source": [
    "from langchain_openai import ChatOpenAI\n",
    "from langchain_core.prompts import PromptTemplate\n",
    "\n",
    "# 모델을 생성합니다.\n",
    "llm = ChatOpenAI(model_name=\"gpt-3.5-turbo\")\n",
    "\n",
    "# 프롬프트를 생성합니다.\n",
    "prompt = PromptTemplate.from_template(\"{country} 에 대해서 200자 내외로 요약해줘\")\n",
    "\n",
    "# 체인을 생성합니다.\n",
    "chain = prompt | llm"
   ]
  },
  {
   "cell_type": "code",
   "execution_count": 4,
   "metadata": {},
   "outputs": [
    {
     "name": "stdout",
     "output_type": "stream",
     "text": [
      "한국은 동아시아에 위치한 고도로 발전한 경제를 갖춘 선진국가이다. 수도는 서울이며, 인구는 약 5천만 명이 넘는다. 한국은 세계적으로 유명한 문화, 음식, 엔터테인먼트 산업을 보유하고 있으며 K-팝, K-드라마, K-영화 등이 세계적으로 인기를 끌고 있다. 또한 기술 혁신과 고객 서비스 분야에서 높은 발전을 이루고 있으며, 삼성, 현대, LG 등의 기업이 세계적인 기업으로 성장하였다. 한반도 분단 상황으로 인해 북한과의 관계가 계속되는 고조되고 있는 상황이지만, 한국은 미국, 일본, 중국과의 경제 및 정치적 관계를 강화하고 있다.\n",
      "CPU times: user 251 ms, sys: 1 s, total: 1.25 s\n",
      "Wall time: 3.92 s\n"
     ]
    }
   ],
   "source": [
    "%%time \n",
    "response = chain.invoke({\"country\": \"한국\"})\n",
    "print(response.content)"
   ]
  },
  {
   "cell_type": "markdown",
   "metadata": {},
   "source": [
    "## InMemoryCache\n",
    "\n",
    "인메모리 캐시를 사용하여 동일 질문에 대한 답변을 저장하고, 캐시에 저장된 답변을 반환합니다."
   ]
  },
  {
   "cell_type": "code",
   "execution_count": 5,
   "metadata": {},
   "outputs": [
    {
     "name": "stdout",
     "output_type": "stream",
     "text": [
      "한국은 동아시아에 위치한 나라로, 수도는 서울에 있다. 전통적인 문화와 현대화된 도시가 공존하는 나라로, 한류 열풍과 K-pop, K-drama 등의 문화 콘텐츠로 세계적으로 유명하다. 경제는 선진국으로 발전하며 기술력과 산업력이 뛰어나다. 또한 한반도 북쪽에 북한이 위치해 분단 상태가 오랫동안 이어져왔다. 한국은 고궁, 불교사찰, 현대건축물 등 다채로운 관광지가 있어 많은 외국인 관광객이 방문한다. 또한 한국인은 고대부터 현재까지 지속적으로 발전된 한글 문자로 글을 표현한다. 현대 한국은 전 세계에 영향을 미치는 나라로 주목받고 있다.\n",
      "CPU times: user 195 ms, sys: 47.8 ms, total: 243 ms\n",
      "Wall time: 4.07 s\n"
     ]
    }
   ],
   "source": [
    "%%time\n",
    "from langchain.globals import set_llm_cache\n",
    "from langchain.cache import InMemoryCache\n",
    "\n",
    "# 인메모리 캐시를 사용합니다.\n",
    "set_llm_cache(InMemoryCache())\n",
    "\n",
    "# 체인을 실행합니다.\n",
    "response = chain.invoke({\"country\": \"한국\"})\n",
    "print(response.content)"
   ]
  },
  {
   "cell_type": "code",
   "execution_count": 6,
   "metadata": {},
   "outputs": [
    {
     "name": "stdout",
     "output_type": "stream",
     "text": [
      "한국은 동아시아에 위치한 나라로, 수도는 서울에 있다. 전통적인 문화와 현대화된 도시가 공존하는 나라로, 한류 열풍과 K-pop, K-drama 등의 문화 콘텐츠로 세계적으로 유명하다. 경제는 선진국으로 발전하며 기술력과 산업력이 뛰어나다. 또한 한반도 북쪽에 북한이 위치해 분단 상태가 오랫동안 이어져왔다. 한국은 고궁, 불교사찰, 현대건축물 등 다채로운 관광지가 있어 많은 외국인 관광객이 방문한다. 또한 한국인은 고대부터 현재까지 지속적으로 발전된 한글 문자로 글을 표현한다. 현대 한국은 전 세계에 영향을 미치는 나라로 주목받고 있다.\n",
      "CPU times: user 2.56 ms, sys: 1.76 ms, total: 4.32 ms\n",
      "Wall time: 4.7 ms\n"
     ]
    }
   ],
   "source": [
    "%%time\n",
    "# 체인을 실행합니다.\n",
    "response = chain.invoke({\"country\": \"한국\"})\n",
    "print(response.content)"
   ]
  },
  {
   "cell_type": "markdown",
   "metadata": {},
   "source": [
    "## SQLite Cache\n"
   ]
  },
  {
   "cell_type": "code",
   "execution_count": 7,
   "metadata": {},
   "outputs": [],
   "source": [
    "from langchain_community.cache import SQLiteCache\n",
    "from langchain_core.globals import set_llm_cache\n",
    "import os\n",
    "\n",
    "# 캐시 디렉토리를 생성합니다.\n",
    "if not os.path.exists(\"cache\"):\n",
    "    os.makedirs(\"cache\")\n",
    "\n",
    "# SQLiteCache를 사용합니다.\n",
    "set_llm_cache(SQLiteCache(database_path=\"cache/llm_cache.db\"))"
   ]
  },
  {
   "cell_type": "code",
   "execution_count": 9,
   "metadata": {},
   "outputs": [
    {
     "name": "stdout",
     "output_type": "stream",
     "text": [
      "한국은 동아시아에 위치한 고도로 발전한 나라로, 역사와 문화가 깊이 있으며 현대화된 도시와 전통적인 마을이 공존하는 다양한 모습을 보여준다. 경제적으로는 세계적인 기업들이 발달하고 있으며 IT 산업과 엔터테인먼트 산업이 성장하고 있다. 또한 한류 열풍으로 한국의 문화가 글로벌하게 인정받고 있으며 K-pop, K-drama, K-food 등이 세계적인 인기를 끌고 있다. 정치적으로는 북한과의 관계가 계속되는 긴장 상태에 있지만, 국내 정치는 민주주의를 기반으로 안정적으로 운영되고 있다. 또한 한반도의 자연환경은 다양한 산악지대와 해안선으로 아름다운 풍경을 자랑하고 있다.\n",
      "CPU times: user 68.2 ms, sys: 8.27 ms, total: 76.5 ms\n",
      "Wall time: 82.6 ms\n"
     ]
    }
   ],
   "source": [
    "%%time \n",
    "# 체인을 실행합니다.\n",
    "response = chain.invoke({\"country\": \"한국\"})\n",
    "print(response.content)"
   ]
  },
  {
   "cell_type": "code",
   "execution_count": null,
   "metadata": {},
   "outputs": [],
   "source": []
  }
 ],
 "metadata": {
  "kernelspec": {
   "display_name": "My IPython",
   "language": "python",
   "name": "venv"
  },
  "language_info": {
   "codemirror_mode": {
    "name": "ipython",
    "version": 3
   },
   "file_extension": ".py",
   "mimetype": "text/x-python",
   "name": "python",
   "nbconvert_exporter": "python",
   "pygments_lexer": "ipython3",
   "version": "3.10.12"
  }
 },
 "nbformat": 4,
 "nbformat_minor": 2
}
