{
 "cells": [
  {
   "cell_type": "markdown",
   "id": "d93110f5",
   "metadata": {},
   "source": [
    "# Runnables 구조 검토\n",
    "\n",
    "LCEL로 `runnable` 을 생성한 후에는 종종 이를 검사하여 어떤 일이 일어나고 있는지 더 잘 파악하고 싶을 것입니다.\n",
    "\n",
    "이 노트북에서는 이를 수행하는 몇 가지 방법을 다룹니다."
   ]
  },
  {
   "cell_type": "code",
   "execution_count": 1,
   "id": "6e4d8cf8",
   "metadata": {},
   "outputs": [
    {
     "data": {
      "text/plain": [
       "True"
      ]
     },
     "execution_count": 1,
     "metadata": {},
     "output_type": "execute_result"
    }
   ],
   "source": [
    "# API 키를 환경변수로 관리하기 위한 설정 파일\n",
    "from dotenv import load_dotenv\n",
    "\n",
    "# API 키 정보 로드\n",
    "load_dotenv()"
   ]
  },
  {
   "cell_type": "code",
   "execution_count": 2,
   "id": "312a1edb",
   "metadata": {},
   "outputs": [],
   "source": [
    "# !pip install -qU faiss-cpu tiktoken\n",
    "\n",
    "# 그래프를 그리기 위한 라이브러리 설치\n",
    "# !pip install -qU grandalf"
   ]
  },
  {
   "cell_type": "code",
   "execution_count": 3,
   "id": "00b3453b",
   "metadata": {},
   "outputs": [],
   "source": [
    "from langchain.prompts import ChatPromptTemplate\n",
    "from langchain.vectorstores import FAISS\n",
    "from langchain_core.output_parsers import StrOutputParser\n",
    "from langchain_core.runnables import RunnableLambda, RunnablePassthrough\n",
    "from langchain_openai import ChatOpenAI, OpenAIEmbeddings\n",
    "\n",
    "vectorstore = FAISS.from_texts(\n",
    "    # 텍스트 데이터로부터 FAISS 벡터 저장소를 생성합니다.\n",
    "    [\"Teddy is an AI engineer who loves programming!\"],\n",
    "    embedding=OpenAIEmbeddings(),\n",
    ")\n",
    "\n",
    "# 벡터 저장소를 기반으로 retriever를 생성합니다.\n",
    "retriever = vectorstore.as_retriever()\n",
    "\n",
    "template = \"\"\"Answer the question based only on the following context:\n",
    "{context}  \n",
    "\n",
    "Question: {question}\"\"\"\n",
    "\n",
    "prompt = ChatPromptTemplate.from_template(\n",
    "    template\n",
    ")  # 템플릿을 기반으로 ChatPromptTemplate을 생성합니다.\n",
    "\n",
    "model = ChatOpenAI(model=\"gpt-4o-mini\")  # ChatOpenAI 모델을 초기화합니다.\n",
    "\n",
    "# chain 을 생성합니다.\n",
    "chain = (\n",
    "    # 검색 컨텍스트와 질문을 지정합니다.\n",
    "    {\"context\": retriever, \"question\": RunnablePassthrough()}\n",
    "    | prompt  # 프롬프트를 생성합니다.\n",
    "    | model  # 언어 모델을 실행합니다.\n",
    "    | StrOutputParser()  # 출력 결과를 문자열로 파싱합니다.\n",
    ")"
   ]
  },
  {
   "cell_type": "markdown",
   "id": "4aebcc63",
   "metadata": {},
   "source": [
    "## 그래프 구성 확인\n",
    "\n",
    "runnable의 그래프를 얻을 수 있습니다.\n"
   ]
  },
  {
   "cell_type": "markdown",
   "id": "90b39c06",
   "metadata": {},
   "source": [
    "`chain.get_graph()` 메서드는 체인의 실행 그래프를 반환합니다.\n",
    "\n",
    "- 이 메서드는 체인의 각 노드와 노드 간의 연결을 나타내는 그래프 객체를 반환합니다.\n",
    "- 그래프의 노드는 체인의 각 단계를 나타내며, 에지(edge)는 단계 간의 데이터 흐름을 나타냅니다.\n"
   ]
  },
  {
   "cell_type": "code",
   "execution_count": 4,
   "id": "69d35d4d",
   "metadata": {},
   "outputs": [
    {
     "data": {
      "text/plain": [
       "{'957892d1de0d4899b544ac1828462679': Node(id='957892d1de0d4899b544ac1828462679', name='Parallel<context,question>Input', data=<class 'langchain_core.runnables.base.RunnableParallel<context,question>Input'>, metadata=None),\n",
       " '3be8aeea9a934e5a8cb30a3e8ffb7229': Node(id='3be8aeea9a934e5a8cb30a3e8ffb7229', name='Parallel<context,question>Output', data=<class 'langchain_core.utils.pydantic.RunnableParallel<context,question>Output'>, metadata=None),\n",
       " '4762a53cea28426b9f62afc3e72d626c': Node(id='4762a53cea28426b9f62afc3e72d626c', name='VectorStoreRetriever', data=VectorStoreRetriever(tags=['FAISS', 'OpenAIEmbeddings'], vectorstore=<langchain_community.vectorstores.faiss.FAISS object at 0x7f5b36191a90>, search_kwargs={}), metadata=None),\n",
       " 'b04ce54b40574902a59d0db6422c0aa7': Node(id='b04ce54b40574902a59d0db6422c0aa7', name='Passthrough', data=RunnablePassthrough(), metadata=None),\n",
       " 'f872ad7372f348c0bdfa81067f198746': Node(id='f872ad7372f348c0bdfa81067f198746', name='ChatPromptTemplate', data=ChatPromptTemplate(input_variables=['context', 'question'], input_types={}, partial_variables={}, messages=[HumanMessagePromptTemplate(prompt=PromptTemplate(input_variables=['context', 'question'], input_types={}, partial_variables={}, template='Answer the question based only on the following context:\\n{context}  \\n\\nQuestion: {question}'), additional_kwargs={})]), metadata=None),\n",
       " '4df148e6e2a34e179981cd5ec25182a7': Node(id='4df148e6e2a34e179981cd5ec25182a7', name='ChatOpenAI', data=ChatOpenAI(client=<openai.resources.chat.completions.Completions object at 0x7f5b36191f50>, async_client=<openai.resources.chat.completions.AsyncCompletions object at 0x7f5b36326f90>, root_client=<openai.OpenAI object at 0x7f5b36296ad0>, root_async_client=<openai.AsyncOpenAI object at 0x7f5b36192210>, model_name='gpt-4o-mini', model_kwargs={}, openai_api_key=SecretStr('**********')), metadata=None),\n",
       " '427c75b321a841c2a2cc603835c05f0e': Node(id='427c75b321a841c2a2cc603835c05f0e', name='StrOutputParser', data=StrOutputParser(), metadata=None),\n",
       " '3ef30e56a77c444db665a8bd81600c68': Node(id='3ef30e56a77c444db665a8bd81600c68', name='StrOutputParserOutput', data=<class 'langchain_core.output_parsers.string.StrOutputParserOutput'>, metadata=None)}"
      ]
     },
     "execution_count": 4,
     "metadata": {},
     "output_type": "execute_result"
    }
   ],
   "source": [
    "# 체인의 그래프에서 노드를 가져옵니다.\n",
    "chain.get_graph().nodes"
   ]
  },
  {
   "cell_type": "code",
   "execution_count": 5,
   "id": "8aa8eedb",
   "metadata": {},
   "outputs": [
    {
     "data": {
      "text/plain": [
       "[Edge(source='fdcbfd0844224a32a03eabef8633c193', target='60cbf01359ed419ba36c9a4396880193', data=None, conditional=False),\n",
       " Edge(source='60cbf01359ed419ba36c9a4396880193', target='7a2dea2ea9db437d838b5127ae57dd0f', data=None, conditional=False),\n",
       " Edge(source='fdcbfd0844224a32a03eabef8633c193', target='b263b3439467416d86defc99b707a28f', data=None, conditional=False),\n",
       " Edge(source='b263b3439467416d86defc99b707a28f', target='7a2dea2ea9db437d838b5127ae57dd0f', data=None, conditional=False),\n",
       " Edge(source='7a2dea2ea9db437d838b5127ae57dd0f', target='84e6cd43d6b546d98e834c82ad334722', data=None, conditional=False),\n",
       " Edge(source='84e6cd43d6b546d98e834c82ad334722', target='58baa974c0074f9da0f1bef077e9c08b', data=None, conditional=False),\n",
       " Edge(source='83adca92555e44f69c4f40cb6dfa7b14', target='9b5fde1e7519498882ba6a6b9921b775', data=None, conditional=False),\n",
       " Edge(source='58baa974c0074f9da0f1bef077e9c08b', target='83adca92555e44f69c4f40cb6dfa7b14', data=None, conditional=False)]"
      ]
     },
     "execution_count": 5,
     "metadata": {},
     "output_type": "execute_result"
    }
   ],
   "source": [
    "# 체인의 그래프에서 엣지를 가져옵니다.\n",
    "chain.get_graph().edges"
   ]
  },
  {
   "cell_type": "markdown",
   "id": "69801031",
   "metadata": {},
   "source": [
    "## 그래프 출력\n",
    "\n",
    "그래프를 출력하면 이해하기 쉬운 형태로 표현할 수 있습니다.\n",
    "\n",
    "비록 출력 결과가 매우 읽기 쉽지는 않지만, 출력을 통해 보다 이해하기 쉬운 형태로 그래프를 확인할 수 있습니다.\n"
   ]
  },
  {
   "cell_type": "code",
   "execution_count": 7,
   "id": "a22c179d",
   "metadata": {},
   "outputs": [
    {
     "name": "stdout",
     "output_type": "stream",
     "text": [
      "           +---------------------------------+         \n",
      "           | Parallel<context,question>Input |         \n",
      "           +---------------------------------+         \n",
      "                    **               **                \n",
      "                 ***                   ***             \n",
      "               **                         **           \n",
      "+----------------------+              +-------------+  \n",
      "| VectorStoreRetriever |              | Passthrough |  \n",
      "+----------------------+              +-------------+  \n",
      "                    **               **                \n",
      "                      ***         ***                  \n",
      "                         **     **                     \n",
      "           +----------------------------------+        \n",
      "           | Parallel<context,question>Output |        \n",
      "           +----------------------------------+        \n",
      "                             *                         \n",
      "                             *                         \n",
      "                             *                         \n",
      "                  +--------------------+               \n",
      "                  | ChatPromptTemplate |               \n",
      "                  +--------------------+               \n",
      "                             *                         \n",
      "                             *                         \n",
      "                             *                         \n",
      "                      +------------+                   \n",
      "                      | ChatOpenAI |                   \n",
      "                      +------------+                   \n",
      "                             *                         \n",
      "                             *                         \n",
      "                             *                         \n",
      "                   +-----------------+                 \n",
      "                   | StrOutputParser |                 \n",
      "                   +-----------------+                 \n",
      "                             *                         \n",
      "                             *                         \n",
      "                             *                         \n",
      "                +-----------------------+              \n",
      "                | StrOutputParserOutput |              \n",
      "                +-----------------------+              \n"
     ]
    }
   ],
   "source": [
    "# 체인의 그래프를 ASCII 형식으로 출력합니다.\n",
    "chain.get_graph().print_ascii()"
   ]
  },
  {
   "cell_type": "markdown",
   "id": "413a6d11",
   "metadata": {},
   "source": [
    "## 프롬프트 가져오기\n",
    "\n",
    "체인에서 중요한 부분은 사용되는 프롬프트입니다.\n"
   ]
  },
  {
   "cell_type": "markdown",
   "id": "4ba41b1c",
   "metadata": {},
   "source": [
    "`chain.get_prompts()` 메서드는 체인에서 사용되는 프롬프트(prompt) 객체의 리스트를 반환합니다.\n"
   ]
  },
  {
   "cell_type": "code",
   "execution_count": 8,
   "id": "e8deea4a",
   "metadata": {},
   "outputs": [
    {
     "data": {
      "text/plain": [
       "[ChatPromptTemplate(input_variables=['context', 'question'], input_types={}, partial_variables={}, messages=[HumanMessagePromptTemplate(prompt=PromptTemplate(input_variables=['context', 'question'], input_types={}, partial_variables={}, template='Answer the question based only on the following context:\\n{context}  \\n\\nQuestion: {question}'), additional_kwargs={})])]"
      ]
     },
     "execution_count": 8,
     "metadata": {},
     "output_type": "execute_result"
    }
   ],
   "source": [
    "chain.get_prompts()  # 체인에서 사용되는 프롬프트를 가져옵니다."
   ]
  }
 ],
 "metadata": {
  "kernelspec": {
   "display_name": "My IPython",
   "language": "python",
   "name": "venv"
  }
 },
 "nbformat": 4,
 "nbformat_minor": 5
}
