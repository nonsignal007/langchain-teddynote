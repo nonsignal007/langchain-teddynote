{
 "cells": [
  {
   "cell_type": "markdown",
   "id": "94179cbe",
   "metadata": {},
   "source": [
    "# LCEL\n",
    "- LangChain 라이브러리에서 제공하는 선언적 방식의 인터페이스로, 복잡한 LLM 애플리케이션을 구축하고 실행하기 위한 도구입니다.\n",
    "- LCEL 은 LLM, 프롬프트, 검색기, 메모리 등 다양한 컴포넌트를 조합하여 강력하고 유연한 AI 시스템을 만들 수 있게 해줍니다.\n",
    "\n",
    "---\n",
    "## 주요 특징\n",
    "1. 선언적 구문 : 복잡한 로직을 간결하고 읽기 쉬운 방식으로 표현할 수 있습니다.\n",
    "2. 모듈성 : 다양한 컴포넌트를 쉽게 조합하고 재사용할 수 있습니다.\n",
    "3. 유연성 : 다양한 유형의 LLM 애플리케이션을 구축할 수 있습니다.\n",
    "4. 확장성 : 사용자 정의 컴포넌트를 쉽게 통합할 수 있습니다.\n",
    "5. 최적화 : 실행 시 자동으로 최적화를 수행합니다.\n",
    "\n",
    "## 기본 구성 요소\n",
    "\n",
    "1. Runnable : 모든 LCEL 컴포넌트의 기본 클래스입니다.\n",
    "2. Chain : 여러 Runnable을 순차적으로 실행합니다.\n",
    "3. RunnableMap : 여러 Runnable을 병렬로 실행합니다.\n",
    "4. RunnableSequence : Runnable 의 시퀀스를 정의합니다.\n",
    "5. RunnableLambda : 사용자 정의 함수를 Runnable로 래핑합니다."
   ]
  },
  {
   "cell_type": "markdown",
   "id": "7a7695f3",
   "metadata": {},
   "source": [
    "## LCEL 을 사용한 간단한 예시"
   ]
  },
  {
   "cell_type": "code",
   "execution_count": 3,
   "id": "e3528b42",
   "metadata": {},
   "outputs": [
    {
     "name": "stdout",
     "output_type": "stream",
     "text": [
      "LangChain은 언어 및 번역 서비스를 제공하는 블록체인 기술 기반의 플랫폼입니다. LangChain은 블록체인 기술을 활용하여 안전하고 효율적인 방식으로 여러 언어간의 번역을 제공하고, 이러한 서비스에 참여하는 번역가와 고객 간의 투명하고 신뢰할 수 있는 거래를 보장합니다.\n",
      "\n",
      "번역 서비스를 이용하는 고객은 LangChain을 통해 자신의 번역 요청을 등록하고, 번역가들은 이를 확인하고 적절한 번역 결과물을 제공합니다. 모든 거래 내역은 블록체인 상에 기록되어 있어 데이터의 무결성과 신뢰성을 확보할 수 있습니다. 또한 LangChain은 스마트 계약을 통해 거래 과정을 자동화하고 보안을 강화합니다.\n",
      "\n",
      "LangChain은 언어산업에 혁명을 가져다 줄 수 있는 혁신적인 기술이며, 번역 시장을 보다 효율적으로 운영할 수 있게 도와줍니다.\n"
     ]
    }
   ],
   "source": [
    "from langchain_openai import ChatOpenAI\n",
    "from langchain.prompts import ChatPromptTemplate\n",
    "from langchain.schema.output_parser import StrOutputParser\n",
    "\n",
    "prompt = ChatPromptTemplate.from_template(\"다음의 주제에 대해서 설명해줘 : {topic}\")\n",
    "model = ChatOpenAI()\n",
    "output_parser = StrOutputParser()\n",
    "\n",
    "chain = prompt | model | output_parser\n",
    "\n",
    "result = chain.invoke({'topic' : 'LangChain'})\n",
    "print(result)"
   ]
  },
  {
   "cell_type": "markdown",
   "id": "bb5bc5fd",
   "metadata": {},
   "source": [
    "# 고급 기능\n",
    "\n",
    "1. 병렬 처리 : `RunnableMap` 을 사용하여 여러 작업을 동시에 실행할 수 있습니다.\n",
    "2. 조건부 실행 : `RunnableBranch` 를 사용하여 조건에 따라 다른 경로를 실행할 수 있습니다.\n",
    "3. 재시도 및 폴백 : 실패 시 자동으로 재시도하거나 대체 경로를 실행할 수 있습니다.\n",
    "4. 스트리밍 : 대규모 데이터를 효율적으로 처리할 수 있습니다. \n",
    "\n",
    "## 장단점\n",
    "\n",
    "### 장점\n",
    "\n",
    "1. 코드 가독성 : 복잡한 로직을 명확하고 간결하게 표현할 수 있습니다.\n",
    "2. 유지보수성 : 모듈화된 구조로 인해 유지보수가 용이합니다.\n",
    "3. 성능 : 자동 최적화를 통해 효율적인 실행이 가능합니다.\n",
    "4. 확장성 : 새로운 컴포넌트를 쉽게 추가하고 통합할수 있습니다.\n",
    "\n",
    "### 단점\n",
    "\n",
    "1. 학습 곡선 : 새로운 패러다임에 익숙해지는 데 시간이 필요할 수 있습니다.\n",
    "2. 디버깅 : 복잡한 체인의 경우 디버깅이 어려울 수 있습니다.\n",
    "3. 성능 오버헤드 : 매우 간단한 작업인 경우 오버헤드가 발생할 수 있습니다.\n",
    "\n"
   ]
  },
  {
   "cell_type": "markdown",
   "id": "3b5b077d",
   "metadata": {},
   "source": [
    "# RunnablePassthrough\n",
    "\n",
    "`RunnablePassthrough` 는 데이터를 전달하는 역할을 합니다. 이 클래스는 `invoke()` 메서드를 통해 **입력된 데이터를 그대로 반환** 합니다.\n",
    "\n",
    "이는 데이터를 변경하지 않고 파이프라인의 다음 단계로 전달하는 데 사용될 수 있습니다.\n",
    "\n",
    "`RunnablePassthrough` 는 다음과 같은 시나리오에서 유용할 수 있습니다.\n",
    "\n",
    "- 데이터를 변환하거나 수정할 필요가 없는 경우\n",
    "- 파이프라인의 특정 단계를 건너뛰어야 하는 경우\n",
    "- 디버깅 또는 테스트 목적으로 데이터 흐름을 모니터링해야 하는 경우\n",
    "\n",
    "이 클래스는 `Runnable` 인터페이스를 구현하므로, 다른 `Runnable` 객체와 함께 파이프라인에서 사용될 수 있습니다.\n"
   ]
  },
  {
   "cell_type": "code",
   "execution_count": 6,
   "id": "be73a3b5",
   "metadata": {},
   "outputs": [
    {
     "data": {
      "text/plain": [
       "True"
      ]
     },
     "execution_count": 6,
     "metadata": {},
     "output_type": "execute_result"
    }
   ],
   "source": [
    "# API 키를 환경변수로 관리하기 위한 설정 파일\n",
    "from dotenv import load_dotenv\n",
    "\n",
    "# API 키 정보 로드\n",
    "load_dotenv()"
   ]
  },
  {
   "cell_type": "markdown",
   "id": "dd223232",
   "metadata": {},
   "source": [
    "## 데이터 전달하기\n",
    "\n",
    "`RunnablePassthrough` 는 입력을 변경하지 않고 그대로 전달하거나 추가 키를 더하여 전달할 수 있습니다.\n",
    "\n",
    "일반적으로 `RunnableParallel` 과 함께 사용되어 데이터를 맵의 새로운 키에 할당하는 데 활용됩니다.\n",
    "\n",
    "`RunnablePassthrough()` 를 단독으로 호출하면 단순히 입력을 받아 그대로 전달합니다.\n",
    "\n",
    "assign과 함께 호출된 RunnablePassthrough(`RunnablePassthrough.assign(...)`)는 입력을 받아 assign 함수에 전달된 추가 인자를 더합니다.\n"
   ]
  },
  {
   "cell_type": "markdown",
   "id": "992bca8a",
   "metadata": {},
   "source": [
    "- `RunnableParallel` 클래스를 사용하여 **병렬로 실행 가능한 작업을 정의** 합니다.\n",
    "- `passed` 속성에는 `RunnablePassthrough` 인스턴스를 할당하여 입력을 그대로 반환하도록 설정합니다.\n",
    "- `extra` 속성에는 `RunnablePassthrough.assign()` 메서드를 사용하여 입력의 \"num\" 값에 3을 곱한 결과를 \"mult\" 키에 할당하는 작업을 정의합니다.\n",
    "- `modified` 속성에는 람다 함수를 사용하여 입력의 \"num\" 값에 1을 더하는 작업을 정의합니다.\n",
    "- `runnable.invoke()` 메서드를 호출하여 `{\"num\": 1}` 입력으로 병렬 작업을 실행합니다.\n"
   ]
  },
  {
   "cell_type": "code",
   "execution_count": 7,
   "id": "94e3a547",
   "metadata": {},
   "outputs": [
    {
     "data": {
      "text/plain": [
       "{'passed': {'num': 1}, 'extra': {'num': 1, 'mult': 3}, 'modified': 2}"
      ]
     },
     "execution_count": 7,
     "metadata": {},
     "output_type": "execute_result"
    }
   ],
   "source": [
    "from langchain_core.runnables import RunnableParallel, RunnablePassthrough\n",
    "\n",
    "runnable = RunnableParallel(\n",
    "    # 전달된 입력을 그대로 반환하는 Runnable을 설정합니다.\n",
    "    passed=RunnablePassthrough(),\n",
    "    # 입력의 \"num\" 값에 3을 곱한 결과를 반환하는 Runnable을 설정합니다.\n",
    "    extra=RunnablePassthrough.assign(mult=lambda x: x[\"num\"] * 3),\n",
    "    # 입력의 \"num\" 값에 1을 더한 결과를 반환하는 Runnable을 설정합니다.\n",
    "    modified=lambda x: x[\"num\"] + 1,\n",
    ")\n",
    "\n",
    "# {\"num\": 1}을 입력으로 Runnable을 실행합니다.\n",
    "runnable.invoke({\"num\": 1})"
   ]
  },
  {
   "cell_type": "code",
   "execution_count": 8,
   "id": "f2aa62a7",
   "metadata": {},
   "outputs": [
    {
     "data": {
      "text/plain": [
       "{'num': 1, 'mult': 3}"
      ]
     },
     "execution_count": 8,
     "metadata": {},
     "output_type": "execute_result"
    }
   ],
   "source": [
    "r = RunnablePassthrough.assign(mult=lambda x: x[\"num\"] * 3)\n",
    "r.invoke({\"num\": 1})"
   ]
  },
  {
   "cell_type": "markdown",
   "id": "3552773b",
   "metadata": {},
   "source": [
    "위의 예시에서 `passed` 키는 `RunnablePassthrough()`와 함께 호출되었으며, 이는 단순히 `{'num': 1}`을 전달합니다.\n",
    "\n",
    "두 번째 줄에서는 숫자 값에 3을 곱하는 람다 함수와 함께 `RunnablePastshrough.assign`을 사용했습니다. 이 경우, `extra`는 원래 값에 `mult` 키가 추가된 `{'num': 1, 'mult': 3}`로 설정되었습니다.\n",
    "\n",
    "마지막으로, `modified` 키를 사용하여 맵에 세 번째 키를 설정했는데, 이는 람다 함수를 사용하여 num에 1을 더한 단일 값을 설정하였으며, 그 결과 `modified` 키의 값은 `2`가 되었습니다.\n"
   ]
  },
  {
   "cell_type": "markdown",
   "id": "f0846106",
   "metadata": {},
   "source": [
    "## 검색기 예제\n",
    "\n",
    "아래 예제에서는 `RunnablePassthrough` 사용하는 사용 사례를 살펴볼 수 있습니다.\n"
   ]
  },
  {
   "cell_type": "code",
   "execution_count": 9,
   "id": "2ea470fe",
   "metadata": {},
   "outputs": [],
   "source": [
    "from langchain_community.vectorstores import FAISS\n",
    "from langchain_core.output_parsers import StrOutputParser\n",
    "from langchain_core.prompts import ChatPromptTemplate\n",
    "from langchain_core.runnables import RunnablePassthrough\n",
    "from langchain_openai import ChatOpenAI, OpenAIEmbeddings\n",
    "\n",
    "# 텍스트로부터 FAISS 벡터 저장소를 생성합니다.\n",
    "vectorstore = FAISS.from_texts(\n",
    "    [\n",
    "        \"테디는 랭체인 주식회사에서 근무를 하였습니다.\",\n",
    "        \"셜리는 테디와 같은 회사에서 근무하였습니다.\",\n",
    "        \"테디의 직업은 개발자입니다.\",\n",
    "        \"셜리의 직업은 디자이너입니다.\",\n",
    "    ],\n",
    "    embedding=OpenAIEmbeddings(),\n",
    ")\n",
    "# 벡터 저장소를 검색기로 사용합니다.\n",
    "retriever = vectorstore.as_retriever()\n",
    "# 템플릿을 정의합니다.\n",
    "template = \"\"\"Answer the question based only on the following context:\n",
    "{context}\n",
    "\n",
    "Question: {question}\n",
    "\"\"\"\n",
    "# 템플릿으로부터 채팅 프롬프트를 생성합니다.\n",
    "prompt = ChatPromptTemplate.from_template(template)\n",
    "\n",
    "# ChatOpenAI 모델을 초기화합니다.\n",
    "model = ChatOpenAI(model_name=\"gpt-4o-mini\")\n",
    "\n",
    "\n",
    "# 문서를 포맷팅하는 함수\n",
    "def format_docs(docs):\n",
    "    return \"\\n\".join([doc.page_content for doc in docs])\n",
    "\n",
    "\n",
    "# 검색 체인을 구성합니다.\n",
    "retrieval_chain = (\n",
    "    {\"context\": retriever | format_docs, \"question\": RunnablePassthrough()}\n",
    "    | prompt\n",
    "    | model\n",
    "    | StrOutputParser()\n",
    ")"
   ]
  },
  {
   "cell_type": "code",
   "execution_count": 10,
   "id": "b4955e13",
   "metadata": {},
   "outputs": [
    {
     "data": {
      "text/plain": [
       "'테디의 직업은 개발자입니다.'"
      ]
     },
     "execution_count": 10,
     "metadata": {},
     "output_type": "execute_result"
    }
   ],
   "source": [
    "# 검색 체인을 실행하여 질문에 대한 답변을 얻습니다.\n",
    "retrieval_chain.invoke(\"테디의 직업은 무엇입니까?\")"
   ]
  },
  {
   "cell_type": "code",
   "execution_count": 11,
   "id": "771ffeb2",
   "metadata": {},
   "outputs": [
    {
     "data": {
      "text/plain": [
       "'셜리의 직업은 디자이너입니다.'"
      ]
     },
     "execution_count": 11,
     "metadata": {},
     "output_type": "execute_result"
    }
   ],
   "source": [
    "# 검색 체인을 실행하여 질문에 대한 답변을 얻습니다.\n",
    "retrieval_chain.invoke(\"셜리의 직업은 무엇입니까?\")"
   ]
  },
  {
   "cell_type": "code",
   "execution_count": null,
   "id": "97053132",
   "metadata": {},
   "outputs": [],
   "source": []
  }
 ],
 "metadata": {
  "kernelspec": {
   "display_name": "My IPython",
   "language": "python",
   "name": "venv"
  }
 },
 "nbformat": 4,
 "nbformat_minor": 5
}
