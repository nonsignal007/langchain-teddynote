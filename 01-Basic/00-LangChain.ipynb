{
 "cells": [
  {
   "cell_type": "markdown",
   "metadata": {},
   "source": [
    "## LangChain\n",
    "\n",
    "- `LangChain` 은 언어 모델을 활용해 다양한 애플리케이션을 개발할 수 있는 프레임워크를 말한다.\n",
    "\n",
    "- 랭체인을 통해 사용할 수 있는 기능\n",
    "    - 문맥을 인식하는 기능 : LangChain은 언어 모델을 다양한 문맥 소스와 연결한다. 여기에는 프롬프트 지시사항, 소수의 예시, 응답에 근거한 내용 등이 포함된다.\n",
    "    - 추론하는 기능 : 언어 모델은 주어진 문맥을 바탕으로 어떠한 답변을 제공하거나, 어떤 조치를 취해ㅑ 할지를 스스로 추론할 수 있다.\n",
    "\n",
    "- 랭체인을 통해 RAG 어플리케이션 제작, 구조화된 데이터 분석, 챗봇 등을 만들 수 있다.\n"
   ]
  }
 ],
 "metadata": {
  "kernelspec": {
   "display_name": "teddy-env",
   "language": "python",
   "name": "python3"
  },
  "language_info": {
   "name": "python",
   "version": "3.10.9"
  }
 },
 "nbformat": 4,
 "nbformat_minor": 2
}
