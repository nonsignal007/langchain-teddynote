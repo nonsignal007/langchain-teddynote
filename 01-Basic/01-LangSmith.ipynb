{
 "cells": [
  {
   "cell_type": "markdown",
   "metadata": {},
   "source": [
    "# LangSmith"
   ]
  },
  {
   "cell_type": "markdown",
   "metadata": {},
   "source": [
    "## LangSmith 추적 설정하기\n",
    "\n",
    "- LangSmith 는 LLM 애플리케이션 개발, 모니터링 및 테스트를 위한 플랫폼이다."
   ]
  },
  {
   "cell_type": "markdown",
   "metadata": {},
   "source": [
    "## LangSmith 의 추적기능\n",
    "\n",
    "- 예상치 못한 최종 결과\n",
    "- 에이전트가 루핑되는 이유\n",
    "- 체인이 예상보다 느린 이유\n",
    "- 에이전트가 각 단게에서 사용한 토큰 수\n",
    "\n",
    "### 프로젝트 단위 추적\n",
    "\n",
    "- 프로젝트 단위로 실행 카운트, Error 발생률, 토큰 사용량, 과금 정보 등을 확인 할 수 있다."
   ]
  },
  {
   "cell_type": "markdown",
   "metadata": {},
   "source": [
    "## LangSmith 추적 사용하기\n",
    "\n",
    "- LangSmith API Key 발급\n",
    "\n",
    "1. https://smith.langchain.com/ 으로 접속하여 회원가입 진행\n",
    "2. Login 후 `Get Start` 클릭\n",
    "3. `Generate API Key` 클릭 후 아래 그림을 따라 프로젝트 생성\n",
    "\n",
    "![image.png](./images/langsmith.png)"
   ]
  },
  {
   "cell_type": "markdown",
   "metadata": {},
   "source": [
    "## install dependencies"
   ]
  },
  {
   "cell_type": "code",
   "execution_count": 2,
   "metadata": {},
   "outputs": [
    {
     "name": "stdout",
     "output_type": "stream",
     "text": [
      "Requirement already satisfied: pip in /Users/minsuson/.pyenv/versions/3.11.9/envs/lang-env/lib/python3.11/site-packages (24.0)\n",
      "Collecting pip\n",
      "  Downloading pip-25.0-py3-none-any.whl.metadata (3.7 kB)\n",
      "Downloading pip-25.0-py3-none-any.whl (1.8 MB)\n",
      "\u001b[2K   \u001b[90m━━━━━━━━━━━━━━━━━━━━━━━━━━━━━━━━━━━━━━━━\u001b[0m \u001b[32m1.8/1.8 MB\u001b[0m \u001b[31m15.5 MB/s\u001b[0m eta \u001b[36m0:00:00\u001b[0m00:01\u001b[0m00:01\u001b[0m\n",
      "\u001b[?25hInstalling collected packages: pip\n",
      "  Attempting uninstall: pip\n",
      "    Found existing installation: pip 24.0\n",
      "    Uninstalling pip-24.0:\n",
      "      Successfully uninstalled pip-24.0\n",
      "Successfully installed pip-25.0\n",
      "Requirement already satisfied: langchain in /Users/minsuson/.pyenv/versions/3.11.9/envs/lang-env/lib/python3.11/site-packages (0.3.17)\n",
      "Requirement already satisfied: langchain-core in /Users/minsuson/.pyenv/versions/3.11.9/envs/lang-env/lib/python3.11/site-packages (0.3.33)\n",
      "Requirement already satisfied: PyYAML>=5.3 in /Users/minsuson/.pyenv/versions/3.11.9/envs/lang-env/lib/python3.11/site-packages (from langchain) (6.0.2)\n",
      "Requirement already satisfied: SQLAlchemy<3,>=1.4 in /Users/minsuson/.pyenv/versions/3.11.9/envs/lang-env/lib/python3.11/site-packages (from langchain) (2.0.37)\n",
      "Requirement already satisfied: aiohttp<4.0.0,>=3.8.3 in /Users/minsuson/.pyenv/versions/3.11.9/envs/lang-env/lib/python3.11/site-packages (from langchain) (3.11.11)\n",
      "Requirement already satisfied: langchain-text-splitters<0.4.0,>=0.3.3 in /Users/minsuson/.pyenv/versions/3.11.9/envs/lang-env/lib/python3.11/site-packages (from langchain) (0.3.5)\n",
      "Requirement already satisfied: langsmith<0.4,>=0.1.17 in /Users/minsuson/.pyenv/versions/3.11.9/envs/lang-env/lib/python3.11/site-packages (from langchain) (0.3.3)\n",
      "Requirement already satisfied: numpy<2,>=1.22.4 in /Users/minsuson/.pyenv/versions/3.11.9/envs/lang-env/lib/python3.11/site-packages (from langchain) (1.26.4)\n",
      "Requirement already satisfied: pydantic<3.0.0,>=2.7.4 in /Users/minsuson/.pyenv/versions/3.11.9/envs/lang-env/lib/python3.11/site-packages (from langchain) (2.10.6)\n",
      "Requirement already satisfied: requests<3,>=2 in /Users/minsuson/.pyenv/versions/3.11.9/envs/lang-env/lib/python3.11/site-packages (from langchain) (2.32.3)\n",
      "Requirement already satisfied: tenacity!=8.4.0,<10,>=8.1.0 in /Users/minsuson/.pyenv/versions/3.11.9/envs/lang-env/lib/python3.11/site-packages (from langchain) (9.0.0)\n",
      "Requirement already satisfied: jsonpatch<2.0,>=1.33 in /Users/minsuson/.pyenv/versions/3.11.9/envs/lang-env/lib/python3.11/site-packages (from langchain-core) (1.33)\n",
      "Requirement already satisfied: packaging<25,>=23.2 in /Users/minsuson/.pyenv/versions/3.11.9/envs/lang-env/lib/python3.11/site-packages (from langchain-core) (24.2)\n",
      "Requirement already satisfied: typing-extensions>=4.7 in /Users/minsuson/.pyenv/versions/3.11.9/envs/lang-env/lib/python3.11/site-packages (from langchain-core) (4.12.2)\n",
      "Requirement already satisfied: aiohappyeyeballs>=2.3.0 in /Users/minsuson/.pyenv/versions/3.11.9/envs/lang-env/lib/python3.11/site-packages (from aiohttp<4.0.0,>=3.8.3->langchain) (2.4.4)\n",
      "Requirement already satisfied: aiosignal>=1.1.2 in /Users/minsuson/.pyenv/versions/3.11.9/envs/lang-env/lib/python3.11/site-packages (from aiohttp<4.0.0,>=3.8.3->langchain) (1.3.2)\n",
      "Requirement already satisfied: attrs>=17.3.0 in /Users/minsuson/.pyenv/versions/3.11.9/envs/lang-env/lib/python3.11/site-packages (from aiohttp<4.0.0,>=3.8.3->langchain) (25.1.0)\n",
      "Requirement already satisfied: frozenlist>=1.1.1 in /Users/minsuson/.pyenv/versions/3.11.9/envs/lang-env/lib/python3.11/site-packages (from aiohttp<4.0.0,>=3.8.3->langchain) (1.5.0)\n",
      "Requirement already satisfied: multidict<7.0,>=4.5 in /Users/minsuson/.pyenv/versions/3.11.9/envs/lang-env/lib/python3.11/site-packages (from aiohttp<4.0.0,>=3.8.3->langchain) (6.1.0)\n",
      "Requirement already satisfied: propcache>=0.2.0 in /Users/minsuson/.pyenv/versions/3.11.9/envs/lang-env/lib/python3.11/site-packages (from aiohttp<4.0.0,>=3.8.3->langchain) (0.2.1)\n",
      "Requirement already satisfied: yarl<2.0,>=1.17.0 in /Users/minsuson/.pyenv/versions/3.11.9/envs/lang-env/lib/python3.11/site-packages (from aiohttp<4.0.0,>=3.8.3->langchain) (1.18.3)\n",
      "Requirement already satisfied: jsonpointer>=1.9 in /Users/minsuson/.pyenv/versions/3.11.9/envs/lang-env/lib/python3.11/site-packages (from jsonpatch<2.0,>=1.33->langchain-core) (3.0.0)\n",
      "Requirement already satisfied: httpx<1,>=0.23.0 in /Users/minsuson/.pyenv/versions/3.11.9/envs/lang-env/lib/python3.11/site-packages (from langsmith<0.4,>=0.1.17->langchain) (0.28.1)\n",
      "Requirement already satisfied: orjson<4.0.0,>=3.9.14 in /Users/minsuson/.pyenv/versions/3.11.9/envs/lang-env/lib/python3.11/site-packages (from langsmith<0.4,>=0.1.17->langchain) (3.10.15)\n",
      "Requirement already satisfied: requests-toolbelt<2.0.0,>=1.0.0 in /Users/minsuson/.pyenv/versions/3.11.9/envs/lang-env/lib/python3.11/site-packages (from langsmith<0.4,>=0.1.17->langchain) (1.0.0)\n",
      "Requirement already satisfied: zstandard<0.24.0,>=0.23.0 in /Users/minsuson/.pyenv/versions/3.11.9/envs/lang-env/lib/python3.11/site-packages (from langsmith<0.4,>=0.1.17->langchain) (0.23.0)\n",
      "Requirement already satisfied: annotated-types>=0.6.0 in /Users/minsuson/.pyenv/versions/3.11.9/envs/lang-env/lib/python3.11/site-packages (from pydantic<3.0.0,>=2.7.4->langchain) (0.7.0)\n",
      "Requirement already satisfied: pydantic-core==2.27.2 in /Users/minsuson/.pyenv/versions/3.11.9/envs/lang-env/lib/python3.11/site-packages (from pydantic<3.0.0,>=2.7.4->langchain) (2.27.2)\n",
      "Requirement already satisfied: charset-normalizer<4,>=2 in /Users/minsuson/.pyenv/versions/3.11.9/envs/lang-env/lib/python3.11/site-packages (from requests<3,>=2->langchain) (3.4.1)\n",
      "Requirement already satisfied: idna<4,>=2.5 in /Users/minsuson/.pyenv/versions/3.11.9/envs/lang-env/lib/python3.11/site-packages (from requests<3,>=2->langchain) (3.10)\n",
      "Requirement already satisfied: urllib3<3,>=1.21.1 in /Users/minsuson/.pyenv/versions/3.11.9/envs/lang-env/lib/python3.11/site-packages (from requests<3,>=2->langchain) (2.3.0)\n",
      "Requirement already satisfied: certifi>=2017.4.17 in /Users/minsuson/.pyenv/versions/3.11.9/envs/lang-env/lib/python3.11/site-packages (from requests<3,>=2->langchain) (2025.1.31)\n",
      "Requirement already satisfied: anyio in /Users/minsuson/.pyenv/versions/3.11.9/envs/lang-env/lib/python3.11/site-packages (from httpx<1,>=0.23.0->langsmith<0.4,>=0.1.17->langchain) (4.8.0)\n",
      "Requirement already satisfied: httpcore==1.* in /Users/minsuson/.pyenv/versions/3.11.9/envs/lang-env/lib/python3.11/site-packages (from httpx<1,>=0.23.0->langsmith<0.4,>=0.1.17->langchain) (1.0.7)\n",
      "Requirement already satisfied: h11<0.15,>=0.13 in /Users/minsuson/.pyenv/versions/3.11.9/envs/lang-env/lib/python3.11/site-packages (from httpcore==1.*->httpx<1,>=0.23.0->langsmith<0.4,>=0.1.17->langchain) (0.14.0)\n",
      "Requirement already satisfied: sniffio>=1.1 in /Users/minsuson/.pyenv/versions/3.11.9/envs/lang-env/lib/python3.11/site-packages (from anyio->httpx<1,>=0.23.0->langsmith<0.4,>=0.1.17->langchain) (1.3.1)\n",
      "Collecting transformers==4.44.2\n",
      "  Downloading transformers-4.44.2-py3-none-any.whl.metadata (43 kB)\n",
      "Collecting torch\n",
      "  Downloading torch-2.6.0-cp311-none-macosx_11_0_arm64.whl.metadata (28 kB)\n",
      "Collecting python-dotenv\n",
      "  Using cached python_dotenv-1.0.1-py3-none-any.whl.metadata (23 kB)\n",
      "Collecting filelock (from transformers==4.44.2)\n",
      "  Using cached filelock-3.17.0-py3-none-any.whl.metadata (2.9 kB)\n",
      "Collecting huggingface-hub<1.0,>=0.23.2 (from transformers==4.44.2)\n",
      "  Downloading huggingface_hub-0.28.1-py3-none-any.whl.metadata (13 kB)\n",
      "Requirement already satisfied: numpy>=1.17 in /Users/minsuson/.pyenv/versions/3.11.9/envs/lang-env/lib/python3.11/site-packages (from transformers==4.44.2) (1.26.4)\n",
      "Requirement already satisfied: packaging>=20.0 in /Users/minsuson/.pyenv/versions/3.11.9/envs/lang-env/lib/python3.11/site-packages (from transformers==4.44.2) (24.2)\n",
      "Requirement already satisfied: pyyaml>=5.1 in /Users/minsuson/.pyenv/versions/3.11.9/envs/lang-env/lib/python3.11/site-packages (from transformers==4.44.2) (6.0.2)\n",
      "Collecting regex!=2019.12.17 (from transformers==4.44.2)\n",
      "  Downloading regex-2024.11.6-cp311-cp311-macosx_11_0_arm64.whl.metadata (40 kB)\n",
      "Requirement already satisfied: requests in /Users/minsuson/.pyenv/versions/3.11.9/envs/lang-env/lib/python3.11/site-packages (from transformers==4.44.2) (2.32.3)\n",
      "Collecting safetensors>=0.4.1 (from transformers==4.44.2)\n",
      "  Using cached safetensors-0.5.2-cp38-abi3-macosx_11_0_arm64.whl.metadata (3.8 kB)\n",
      "Collecting tokenizers<0.20,>=0.19 (from transformers==4.44.2)\n",
      "  Downloading tokenizers-0.19.1-cp311-cp311-macosx_11_0_arm64.whl.metadata (6.7 kB)\n",
      "Collecting tqdm>=4.27 (from transformers==4.44.2)\n",
      "  Using cached tqdm-4.67.1-py3-none-any.whl.metadata (57 kB)\n",
      "Requirement already satisfied: typing-extensions>=4.10.0 in /Users/minsuson/.pyenv/versions/3.11.9/envs/lang-env/lib/python3.11/site-packages (from torch) (4.12.2)\n",
      "Collecting networkx (from torch)\n",
      "  Using cached networkx-3.4.2-py3-none-any.whl.metadata (6.3 kB)\n",
      "Collecting jinja2 (from torch)\n",
      "  Using cached jinja2-3.1.5-py3-none-any.whl.metadata (2.6 kB)\n",
      "Collecting fsspec (from torch)\n",
      "  Using cached fsspec-2024.12.0-py3-none-any.whl.metadata (11 kB)\n",
      "Collecting sympy==1.13.1 (from torch)\n",
      "  Using cached sympy-1.13.1-py3-none-any.whl.metadata (12 kB)\n",
      "Collecting mpmath<1.4,>=1.1.0 (from sympy==1.13.1->torch)\n",
      "  Using cached mpmath-1.3.0-py3-none-any.whl.metadata (8.6 kB)\n",
      "Collecting MarkupSafe>=2.0 (from jinja2->torch)\n",
      "  Downloading MarkupSafe-3.0.2-cp311-cp311-macosx_11_0_arm64.whl.metadata (4.0 kB)\n",
      "Requirement already satisfied: charset-normalizer<4,>=2 in /Users/minsuson/.pyenv/versions/3.11.9/envs/lang-env/lib/python3.11/site-packages (from requests->transformers==4.44.2) (3.4.1)\n",
      "Requirement already satisfied: idna<4,>=2.5 in /Users/minsuson/.pyenv/versions/3.11.9/envs/lang-env/lib/python3.11/site-packages (from requests->transformers==4.44.2) (3.10)\n",
      "Requirement already satisfied: urllib3<3,>=1.21.1 in /Users/minsuson/.pyenv/versions/3.11.9/envs/lang-env/lib/python3.11/site-packages (from requests->transformers==4.44.2) (2.3.0)\n",
      "Requirement already satisfied: certifi>=2017.4.17 in /Users/minsuson/.pyenv/versions/3.11.9/envs/lang-env/lib/python3.11/site-packages (from requests->transformers==4.44.2) (2025.1.31)\n",
      "Downloading transformers-4.44.2-py3-none-any.whl (9.5 MB)\n",
      "\u001b[2K   \u001b[90m━━━━━━━━━━━━━━━━━━━━━━━━━━━━━━━━━━━━━━━━\u001b[0m \u001b[32m9.5/9.5 MB\u001b[0m \u001b[31m14.0 MB/s\u001b[0m eta \u001b[36m0:00:00\u001b[0ma \u001b[36m0:00:01\u001b[0m\n",
      "\u001b[?25hDownloading torch-2.6.0-cp311-none-macosx_11_0_arm64.whl (66.5 MB)\n",
      "\u001b[2K   \u001b[90m━━━━━━━━━━━━━━━━━━━━━━━━━━━━━━━━━━━━━━━━\u001b[0m \u001b[32m66.5/66.5 MB\u001b[0m \u001b[31m19.8 MB/s\u001b[0m eta \u001b[36m0:00:00\u001b[0ma \u001b[36m0:00:01\u001b[0m\n",
      "\u001b[?25hUsing cached sympy-1.13.1-py3-none-any.whl (6.2 MB)\n",
      "Using cached python_dotenv-1.0.1-py3-none-any.whl (19 kB)\n",
      "Downloading huggingface_hub-0.28.1-py3-none-any.whl (464 kB)\n",
      "Using cached fsspec-2024.12.0-py3-none-any.whl (183 kB)\n",
      "Downloading regex-2024.11.6-cp311-cp311-macosx_11_0_arm64.whl (284 kB)\n",
      "Using cached safetensors-0.5.2-cp38-abi3-macosx_11_0_arm64.whl (408 kB)\n",
      "Downloading tokenizers-0.19.1-cp311-cp311-macosx_11_0_arm64.whl (2.4 MB)\n",
      "\u001b[2K   \u001b[90m━━━━━━━━━━━━━━━━━━━━━━━━━━━━━━━━━━━━━━━━\u001b[0m \u001b[32m2.4/2.4 MB\u001b[0m \u001b[31m25.0 MB/s\u001b[0m eta \u001b[36m0:00:00\u001b[0m\n",
      "\u001b[?25hUsing cached tqdm-4.67.1-py3-none-any.whl (78 kB)\n",
      "Using cached filelock-3.17.0-py3-none-any.whl (16 kB)\n",
      "Using cached jinja2-3.1.5-py3-none-any.whl (134 kB)\n",
      "Using cached networkx-3.4.2-py3-none-any.whl (1.7 MB)\n",
      "Downloading MarkupSafe-3.0.2-cp311-cp311-macosx_11_0_arm64.whl (12 kB)\n",
      "Using cached mpmath-1.3.0-py3-none-any.whl (536 kB)\n",
      "Installing collected packages: mpmath, tqdm, sympy, safetensors, regex, python-dotenv, networkx, MarkupSafe, fsspec, filelock, jinja2, huggingface-hub, torch, tokenizers, transformers\n",
      "Successfully installed MarkupSafe-3.0.2 filelock-3.17.0 fsspec-2024.12.0 huggingface-hub-0.28.1 jinja2-3.1.5 mpmath-1.3.0 networkx-3.4.2 python-dotenv-1.0.1 regex-2024.11.6 safetensors-0.5.2 sympy-1.13.1 tokenizers-0.19.1 torch-2.6.0 tqdm-4.67.1 transformers-4.44.2\n"
     ]
    }
   ],
   "source": [
    "!pip install --upgrade pip\n",
    "!pip install -U langchain langchain-core\n",
    "!pip install transformers==4.44.2 torch python-dotenv\n"
   ]
  },
  {
   "cell_type": "code",
   "execution_count": null,
   "metadata": {},
   "outputs": [],
   "source": []
  }
 ],
 "metadata": {
  "kernelspec": {
   "display_name": "lang-env",
   "language": "python",
   "name": "python3"
  },
  "language_info": {
   "codemirror_mode": {
    "name": "ipython",
    "version": 3
   },
   "file_extension": ".py",
   "mimetype": "text/x-python",
   "name": "python",
   "nbconvert_exporter": "python",
   "pygments_lexer": "ipython3",
   "version": "3.11.9"
  }
 },
 "nbformat": 4,
 "nbformat_minor": 2
}
